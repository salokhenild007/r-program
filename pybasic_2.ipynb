{
 "cells": [
  {
   "cell_type": "markdown",
   "id": "736ef526",
   "metadata": {},
   "source": [
    "# while loop"
   ]
  },
  {
   "cell_type": "code",
   "execution_count": 1,
   "id": "eca50c60",
   "metadata": {},
   "outputs": [
    {
     "name": "stdout",
     "output_type": "stream",
     "text": [
      "Hello\n",
      "Hello\n",
      "Hello\n",
      "Hello\n",
      "Hello\n"
     ]
    }
   ],
   "source": [
    "\n",
    "# While loop: Print Hello for 5 times\n",
    "#while loop is very case sensetive\n",
    "cnt = 0\n",
    "while cnt < 5:\n",
    "  print(\"Hello\")\n",
    "  cnt = cnt + 1"
   ]
  },
  {
   "cell_type": "code",
   "execution_count": 2,
   "id": "779e0bc0",
   "metadata": {},
   "outputs": [
    {
     "name": "stdout",
     "output_type": "stream",
     "text": [
      "nilesh\n"
     ]
    }
   ],
   "source": [
    "print(\"nilesh\")"
   ]
  },
  {
   "cell_type": "markdown",
   "id": "37d58278",
   "metadata": {},
   "source": [
    "# write user def function"
   ]
  },
  {
   "cell_type": "code",
   "execution_count": 3,
   "id": "6fa02fe6",
   "metadata": {},
   "outputs": [],
   "source": [
    "# here we define a sq named function which is square of a x\n",
    "def sq(x):\n",
    "    return x*x\n"
   ]
  },
  {
   "cell_type": "code",
   "execution_count": 4,
   "id": "4c0f7d73",
   "metadata": {},
   "outputs": [
    {
     "data": {
      "text/plain": [
       "81"
      ]
     },
     "execution_count": 4,
     "metadata": {},
     "output_type": "execute_result"
    }
   ],
   "source": [
    "sq(9)"
   ]
  },
  {
   "cell_type": "code",
   "execution_count": 5,
   "id": "f3116602",
   "metadata": {},
   "outputs": [
    {
     "name": "stdout",
     "output_type": "stream",
     "text": [
      "enter no5\n",
      "square of number 5.0 is 25.0\n"
     ]
    }
   ],
   "source": [
    "'''\n",
    "here we def a func name square and cube where we take input from user \n",
    "'''\n",
    "#def a function\n",
    "def square(x):\n",
    "    return x**2#return function operation\n",
    "\n",
    "user=float(input(\"enter no\"))#take user input\n",
    "\n",
    "result=square(user)#store output of execution of user sq\n",
    "\n",
    "print(\"square of number\",user,\"is\",result)"
   ]
  },
  {
   "cell_type": "code",
   "execution_count": 6,
   "id": "4e9da74d",
   "metadata": {},
   "outputs": [
    {
     "name": "stdout",
     "output_type": "stream",
     "text": [
      "enter number5\n",
      "cube of number 5.0 is 125.0\n"
     ]
    }
   ],
   "source": [
    "def cube(x):\n",
    "    return x**3\n",
    "\n",
    "user=float(input(\"enter number\"))\n",
    "\n",
    "result=cube(user)\n",
    "\n",
    "print(\"cube of number\",user,\"is\",result)"
   ]
  },
  {
   "cell_type": "code",
   "execution_count": 7,
   "id": "3af5033a",
   "metadata": {},
   "outputs": [],
   "source": [
    "# write a function calc_grade(marks)\n",
    "def calc_grade(marks):\n",
    "    if marks >= 80:\n",
    "        grade = \"Distinction\"\n",
    "    elif marks >= 60:\n",
    "        grade = \"First Class\"\n",
    "    elif marks >= 40:\n",
    "        grade = \"Pass\"\n",
    "    else:\n",
    "        grade = \"Fail\"\n",
    "    return grade # it should be aligned with if"
   ]
  },
  {
   "cell_type": "code",
   "execution_count": 8,
   "id": "79155809",
   "metadata": {},
   "outputs": [
    {
     "data": {
      "text/plain": [
       "'Fail'"
      ]
     },
     "execution_count": 8,
     "metadata": {},
     "output_type": "execute_result"
    }
   ],
   "source": [
    "calc_grade(0)"
   ]
  },
  {
   "cell_type": "code",
   "execution_count": 9,
   "id": "2151ee7c",
   "metadata": {},
   "outputs": [],
   "source": [
    "def marks(grades):\n",
    "    if grades>=90:\n",
    "        print(\"a class\")\n",
    "    elif grades>=70:\n",
    "        print(\"b class\")\n",
    "    elif grades>=40:\n",
    "        print(\"c class\")\n",
    "    else:\n",
    "        print(\"fail\")\n",
    "    return grades #here def of a function return if function as a opration of function"
   ]
  },
  {
   "cell_type": "markdown",
   "id": "b87b3237",
   "metadata": {},
   "source": [
    "# list of string"
   ]
  },
  {
   "cell_type": "code",
   "execution_count": 10,
   "id": "eb5a22cf",
   "metadata": {},
   "outputs": [
    {
     "data": {
      "text/plain": [
       "['mango', 'banan', 'orange', 'jackfriut']"
      ]
     },
     "execution_count": 10,
     "metadata": {},
     "output_type": "execute_result"
    }
   ],
   "source": [
    "list1=[\"mango\",\"banan\",\"orange\",\"jackfriut\"]\n",
    "list1"
   ]
  },
  {
   "cell_type": "code",
   "execution_count": 11,
   "id": "848eded6",
   "metadata": {},
   "outputs": [
    {
     "name": "stdout",
     "output_type": "stream",
     "text": [
      "MANGO\n",
      "BANAN\n",
      "ORANGE\n",
      "JACKFRIUT\n"
     ]
    }
   ],
   "source": [
    "for i in list1:\n",
    "    print(i.upper())"
   ]
  },
  {
   "cell_type": "code",
   "execution_count": 12,
   "id": "9657961e",
   "metadata": {},
   "outputs": [
    {
     "name": "stdout",
     "output_type": "stream",
     "text": [
      "mango\n",
      "banan\n",
      "orange\n",
      "jackfriut\n"
     ]
    }
   ],
   "source": [
    "for i in list1:\n",
    "    print(i.lower())"
   ]
  },
  {
   "cell_type": "code",
   "execution_count": 13,
   "id": "6d57116f",
   "metadata": {},
   "outputs": [
    {
     "data": {
      "text/plain": [
       "['mango', 'banan', 'orange', 'jackfriut']"
      ]
     },
     "execution_count": 13,
     "metadata": {},
     "output_type": "execute_result"
    }
   ],
   "source": [
    "list1"
   ]
  },
  {
   "cell_type": "code",
   "execution_count": 14,
   "id": "d3e6af0c",
   "metadata": {},
   "outputs": [
    {
     "name": "stdout",
     "output_type": "stream",
     "text": [
      "mbngo\n",
      "bbnbn\n",
      "orbnge\n",
      "jbckfriut\n"
     ]
    }
   ],
   "source": [
    "for i in list1:\n",
    "    print(i.replace(\"a\",\"b\"))"
   ]
  },
  {
   "cell_type": "code",
   "execution_count": 15,
   "id": "ea9ebebb",
   "metadata": {},
   "outputs": [
    {
     "ename": "SyntaxError",
     "evalue": "incomplete input (3626565955.py, line 7)",
     "output_type": "error",
     "traceback": [
      "\u001b[1;36m  Cell \u001b[1;32mIn[15], line 7\u001b[1;36m\u001b[0m\n\u001b[1;33m    \u001b[0m\n\u001b[1;37m    ^\u001b[0m\n\u001b[1;31mSyntaxError\u001b[0m\u001b[1;31m:\u001b[0m incomplete input\n"
     ]
    }
   ],
   "source": [
    "\n",
    "# Display fruits by changing case of all fruits to uppercase\n",
    "for fruit in list1:\n",
    "    #print(fruit.upper()) # in sigle line: print(fruit.upper(),end=\" \")\n",
    "     #print(fruit.upper(),end=\",\") #if we want outpiut in sinle line we have to use end=\",\"\n",
    "    #print(fruit.replace(\"u\",\"a\"), end=\" \")\n",
    "    #print(i.reverse()) #list is of a stroing so it cannot reverse\n",
    "    "
   ]
  },
  {
   "cell_type": "code",
   "execution_count": null,
   "id": "8b969d4b",
   "metadata": {},
   "outputs": [],
   "source": [
    "#index in python list\n",
    "list1[0]   #for indexing must of of sq brackets []"
   ]
  },
  {
   "cell_type": "code",
   "execution_count": null,
   "id": "e59140d6",
   "metadata": {},
   "outputs": [],
   "source": [
    "list1[6] # error occur bcoz of range is less then input"
   ]
  },
  {
   "cell_type": "code",
   "execution_count": null,
   "id": "2a49f727",
   "metadata": {},
   "outputs": [],
   "source": [
    "#slicing of index\n",
    "\n",
    "list1[0:2] #its indicates range between 0 to 2"
   ]
  },
  {
   "cell_type": "code",
   "execution_count": null,
   "id": "2ff1bffc",
   "metadata": {},
   "outputs": [],
   "source": [
    "list1[0:3]"
   ]
  },
  {
   "cell_type": "code",
   "execution_count": null,
   "id": "2f2398c6",
   "metadata": {},
   "outputs": [],
   "source": [
    "list1[-3] #negative indexing indicate last se konsa element aya hai"
   ]
  },
  {
   "cell_type": "code",
   "execution_count": null,
   "id": "40032aa1",
   "metadata": {},
   "outputs": [],
   "source": [
    "list2=[\"abc\",\"erw\",\"pqr\",\"oip\",\"azxc\",\"dfv\",\"asd\"]\n",
    "list2"
   ]
  },
  {
   "cell_type": "code",
   "execution_count": null,
   "id": "85e4d914",
   "metadata": {},
   "outputs": [],
   "source": [
    "print(list2)"
   ]
  },
  {
   "cell_type": "code",
   "execution_count": null,
   "id": "35df9f37",
   "metadata": {},
   "outputs": [],
   "source": [
    "name=str(input(\"enter name\"))\n",
    "gaav=str(input(\"enter gaav\"))\n",
    "contact=str(input(\"enter no\"))\n",
    "\n",
    "print(\"name is:\",name+ \" \\n\"+\"gaav is:\",gaav+\"\\n \" +\"contct is:\",contact)"
   ]
  },
  {
   "cell_type": "code",
   "execution_count": null,
   "id": "9293380f",
   "metadata": {},
   "outputs": [],
   "source": [
    "#sliceing in python\n",
    "#in list only sq bracket use for list o a string\n",
    "n=list(range(10))\n",
    "n"
   ]
  },
  {
   "cell_type": "code",
   "execution_count": null,
   "id": "1ec125ca",
   "metadata": {},
   "outputs": [],
   "source": [
    "n[0:6:2]"
   ]
  },
  {
   "cell_type": "code",
   "execution_count": null,
   "id": "b75ee924",
   "metadata": {},
   "outputs": [],
   "source": [
    "n[1:6]"
   ]
  },
  {
   "cell_type": "code",
   "execution_count": null,
   "id": "63215dd0",
   "metadata": {},
   "outputs": [],
   "source": [
    "print(n)"
   ]
  },
  {
   "cell_type": "markdown",
   "id": "4bfcbf34",
   "metadata": {},
   "source": [
    "\n",
    "# in keyword use for finding in string\n"
   ]
  },
  {
   "cell_type": "code",
   "execution_count": null,
   "id": "1dadf466",
   "metadata": {},
   "outputs": [],
   "source": [
    "'lk' in \"nilesh\" # it show the condition is true or false"
   ]
  },
  {
   "cell_type": "code",
   "execution_count": null,
   "id": "e15461d5",
   "metadata": {},
   "outputs": [],
   "source": [
    "list1"
   ]
  },
  {
   "cell_type": "code",
   "execution_count": null,
   "id": "0e8a9efe",
   "metadata": {},
   "outputs": [],
   "source": [
    "list1.append(\"coconut\") #append use for extend the list"
   ]
  },
  {
   "cell_type": "code",
   "execution_count": null,
   "id": "d22b1ab7",
   "metadata": {},
   "outputs": [],
   "source": [
    "list1"
   ]
  },
  {
   "cell_type": "code",
   "execution_count": null,
   "id": "b21b6e38",
   "metadata": {},
   "outputs": [],
   "source": [
    "list1.remove(\"orange\")\n",
    "list1"
   ]
  },
  {
   "cell_type": "code",
   "execution_count": null,
   "id": "62afe5e6",
   "metadata": {},
   "outputs": [],
   "source": [
    "#display fruits which contain substring as 'berry' using for loo\n",
    "for i in list1:\n",
    "    if 'ana' in i:\n",
    "        print(i)"
   ]
  },
  {
   "cell_type": "code",
   "execution_count": null,
   "id": "7b556153",
   "metadata": {},
   "outputs": [],
   "source": [
    "for i in list1:\n",
    "    if 'jack' in i:\n",
    "        print(i)"
   ]
  },
  {
   "cell_type": "code",
   "execution_count": null,
   "id": "65100f02",
   "metadata": {},
   "outputs": [],
   "source": [
    "for fruit in list1:\n",
    "    if 'man' in fruit:\n",
    "        print(fruit)"
   ]
  },
  {
   "cell_type": "code",
   "execution_count": 22,
   "id": "01592b99",
   "metadata": {},
   "outputs": [],
   "source": [
    "list1.append(\"pineapple \")"
   ]
  },
  {
   "cell_type": "code",
   "execution_count": 23,
   "id": "8ad5cb4d",
   "metadata": {},
   "outputs": [],
   "source": [
    "list1.append(\"custod apple\")"
   ]
  },
  {
   "cell_type": "code",
   "execution_count": 24,
   "id": "2abcf86b",
   "metadata": {},
   "outputs": [
    {
     "data": {
      "text/plain": [
       "['mango', 'banan', 'orange', 'jackfriut', 'pineapple ', 'custod apple']"
      ]
     },
     "execution_count": 24,
     "metadata": {},
     "output_type": "execute_result"
    }
   ],
   "source": [
    "list1"
   ]
  },
  {
   "cell_type": "code",
   "execution_count": 25,
   "id": "9bb54b43",
   "metadata": {},
   "outputs": [
    {
     "name": "stdout",
     "output_type": "stream",
     "text": [
      "pineapple \n",
      "custod apple\n"
     ]
    }
   ],
   "source": [
    "for i in list1:\n",
    "    if 'pple' in i:\n",
    "        print(i)"
   ]
  },
  {
   "cell_type": "code",
   "execution_count": 26,
   "id": "9fe4215f",
   "metadata": {},
   "outputs": [
    {
     "data": {
      "text/plain": [
       "['mango', 'banan', 'orange', 'jackfriut', 'pineapple ', 'custod apple']"
      ]
     },
     "execution_count": 26,
     "metadata": {},
     "output_type": "execute_result"
    }
   ],
   "source": [
    "list1"
   ]
  },
  {
   "cell_type": "code",
   "execution_count": 27,
   "id": "f6f6581a",
   "metadata": {},
   "outputs": [
    {
     "name": "stdout",
     "output_type": "stream",
     "text": [
      "['pineapple ', 'custod apple']['mango', 'banan', 'orange', 'jackfriut']"
     ]
    }
   ],
   "source": [
    "# Create list4 of fruits from list3 having only 'berry' as substring and store remaining fruits in list5\n",
    "list2=[]\n",
    "list3=[]\n",
    "#first we crate two empty list\n",
    "for i in list1:\n",
    "    if 'pple' in i:\n",
    "        list2.append(i)#here using append wee add 2 element whicih directly coonencted in list1\n",
    "    else :\n",
    "        list3.append(i)\n",
    "print(list2,end=\"\")\n",
    "print(list3,end=\"\")"
   ]
  },
  {
   "cell_type": "code",
   "execution_count": 28,
   "id": "ded9dcd7",
   "metadata": {},
   "outputs": [
    {
     "data": {
      "text/plain": [
       "['pineapple ', 'custod apple']"
      ]
     },
     "execution_count": 28,
     "metadata": {},
     "output_type": "execute_result"
    }
   ],
   "source": [
    "list2"
   ]
  },
  {
   "cell_type": "code",
   "execution_count": 29,
   "id": "b700d8e3",
   "metadata": {},
   "outputs": [
    {
     "data": {
      "text/plain": [
       "['mango', 'banan', 'orange', 'jackfriut', 'pineapple ', 'custod apple']"
      ]
     },
     "execution_count": 29,
     "metadata": {},
     "output_type": "execute_result"
    }
   ],
   "source": [
    "list1"
   ]
  },
  {
   "cell_type": "code",
   "execution_count": 30,
   "id": "679ac805",
   "metadata": {},
   "outputs": [
    {
     "data": {
      "text/plain": [
       "['mango', 'banan', 'orange', 'jackfriut']"
      ]
     },
     "execution_count": 30,
     "metadata": {},
     "output_type": "execute_result"
    }
   ],
   "source": [
    "list3"
   ]
  },
  {
   "cell_type": "code",
   "execution_count": 44,
   "id": "12999f07",
   "metadata": {},
   "outputs": [
    {
     "name": "stdout",
     "output_type": "stream",
     "text": [
      "[1, 2, 3, 4, 5, 6, 7, 8, 9]\n",
      "[1, 4, 9, 16, 25, 36, 49, 64, 81]"
     ]
    }
   ],
   "source": [
    "# print squares of all numbers of list1 to list2\n",
    "\n",
    "l1=[1,2,3,4,5,6,7,8,9]  #l1 is a list of number\n",
    "l2=[]         #l2 is for list of output\n",
    "\n",
    "for i in l1:\n",
    "    l2.append(i**2)   #l2 is append means extend \n",
    "print(l1,end=\"\\n\")\n",
    "print(l2,end=\"\")"
   ]
  },
  {
   "cell_type": "code",
   "execution_count": 48,
   "id": "64705f59",
   "metadata": {},
   "outputs": [
    {
     "name": "stdout",
     "output_type": "stream",
     "text": [
      "[1, 5, 6, 4, 9, 7]\n",
      "[1, 25, 36, 16, 81, 49]\n"
     ]
    }
   ],
   "source": [
    "l3=[1,5,6,4,9,7]\n",
    "l4=[i**2 for i in l3]\n",
    "\n",
    "print(l3)\n",
    "print(l4)"
   ]
  },
  {
   "cell_type": "code",
   "execution_count": 50,
   "id": "04cfeff2",
   "metadata": {},
   "outputs": [
    {
     "name": "stdout",
     "output_type": "stream",
     "text": [
      "additin is [10, 14, 15, 13, 18, 16]\n"
     ]
    }
   ],
   "source": [
    "l5=[i+9 for i in l3]\n",
    "\n",
    "print(\"additin is\",l5)"
   ]
  },
  {
   "cell_type": "code",
   "execution_count": 51,
   "id": "b5f1b4ac",
   "metadata": {},
   "outputs": [
    {
     "data": {
      "text/plain": [
       "['mango', 'banan', 'orange', 'jackfriut', 'pineapple ', 'custod apple']"
      ]
     },
     "execution_count": 51,
     "metadata": {},
     "output_type": "execute_result"
    }
   ],
   "source": [
    "list1"
   ]
  },
  {
   "cell_type": "code",
   "execution_count": 56,
   "id": "79c7665d",
   "metadata": {},
   "outputs": [
    {
     "name": "stdout",
     "output_type": "stream",
     "text": [
      "['pineapple ', 'custod apple']\n"
     ]
    }
   ],
   "source": [
    "list6=[i for i in list1 if 'le' in i ] #using of for in new list from old list\n",
    "print(list6)"
   ]
  },
  {
   "cell_type": "code",
   "execution_count": 57,
   "id": "aad8a5c5",
   "metadata": {},
   "outputs": [
    {
     "data": {
      "text/plain": [
       "['mango', 'banan', 'orange', 'jackfriut', 'pineapple ', 'custod apple']"
      ]
     },
     "execution_count": 57,
     "metadata": {},
     "output_type": "execute_result"
    }
   ],
   "source": [
    "list1"
   ]
  },
  {
   "cell_type": "code",
   "execution_count": 59,
   "id": "48e6913a",
   "metadata": {},
   "outputs": [
    {
     "name": "stdout",
     "output_type": "stream",
     "text": [
      "['mango', 'banan', 'orange']\n"
     ]
    }
   ],
   "source": [
    "newlist=[i for i in list1 if 'an' in i]\n",
    "print(newlist)"
   ]
  },
  {
   "cell_type": "code",
   "execution_count": 60,
   "id": "396d6148",
   "metadata": {},
   "outputs": [
    {
     "data": {
      "text/plain": [
       "['kolhapur', 'pune', 'solapur', 'malakapur', 'sangli', 'satara']"
      ]
     },
     "execution_count": 60,
     "metadata": {},
     "output_type": "execute_result"
    }
   ],
   "source": [
    "city=[\"kolhapur\",\"pune\",\"solapur\",\"malakapur\",\"sangli\",\"satara\"]\n",
    "city"
   ]
  },
  {
   "cell_type": "code",
   "execution_count": 63,
   "id": "249665fc",
   "metadata": {},
   "outputs": [
    {
     "name": "stdout",
     "output_type": "stream",
     "text": [
      "['kolhapur', 'solapur', 'malakapur']\n"
     ]
    }
   ],
   "source": [
    "op=[pur for pur in city if 'pur'in pur] #here op is a new list and for elements in op we use for statement\n",
    "print(op)"
   ]
  },
  {
   "cell_type": "code",
   "execution_count": 64,
   "id": "0c46a5dd",
   "metadata": {},
   "outputs": [
    {
     "data": {
      "text/plain": [
       "['kolhapur', 'solapur', 'malakapur']"
      ]
     },
     "execution_count": 64,
     "metadata": {},
     "output_type": "execute_result"
    }
   ],
   "source": [
    "op"
   ]
  },
  {
   "cell_type": "code",
   "execution_count": 66,
   "id": "9a072596",
   "metadata": {},
   "outputs": [
    {
     "data": {
      "text/plain": [
       "0"
      ]
     },
     "execution_count": 66,
     "metadata": {},
     "output_type": "execute_result"
    }
   ],
   "source": [
    "city.index(\"kolhapur\")"
   ]
  },
  {
   "cell_type": "code",
   "execution_count": 67,
   "id": "bf61763c",
   "metadata": {},
   "outputs": [
    {
     "name": "stdout",
     "output_type": "stream",
     "text": [
      "['kolhapur', 'pune', 'solapur', 'malakapur', 'sangli', 'satara']\n"
     ]
    }
   ],
   "source": [
    "print(city)"
   ]
  },
  {
   "cell_type": "code",
   "execution_count": 68,
   "id": "b43df639",
   "metadata": {},
   "outputs": [
    {
     "name": "stdout",
     "output_type": "stream",
     "text": [
      "['kolhapur', 'pune', 'solapur', 'malakapur', 'sangli', 'satara']"
     ]
    }
   ],
   "source": [
    "print(city,end=\"\")"
   ]
  },
  {
   "cell_type": "code",
   "execution_count": 69,
   "id": "a558f923",
   "metadata": {},
   "outputs": [
    {
     "data": {
      "text/plain": [
       "['kolhapur', 'pune', 'solapur', 'malakapur', 'sangli', 'satara']"
      ]
     },
     "execution_count": 69,
     "metadata": {},
     "output_type": "execute_result"
    }
   ],
   "source": [
    "city"
   ]
  },
  {
   "cell_type": "code",
   "execution_count": 70,
   "id": "81ee4e8e",
   "metadata": {},
   "outputs": [],
   "source": [
    "city[2]=\"karad\" #karad is replaced at 2nd memory loc of list"
   ]
  },
  {
   "cell_type": "code",
   "execution_count": 71,
   "id": "08ee5569",
   "metadata": {},
   "outputs": [
    {
     "data": {
      "text/plain": [
       "['kolhapur', 'pune', 'karad', 'malakapur', 'sangli', 'satara']"
      ]
     },
     "execution_count": 71,
     "metadata": {},
     "output_type": "execute_result"
    }
   ],
   "source": [
    "city\n"
   ]
  },
  {
   "cell_type": "markdown",
   "id": "5a98e885",
   "metadata": {},
   "source": [
    "\n",
    "# DS-tuple "
   ]
  },
  {
   "cell_type": "code",
   "execution_count": 72,
   "id": "6df8eea9",
   "metadata": {},
   "outputs": [],
   "source": [
    "#tuple is a data structure like list where the elements in list cannot be change \n",
    "#tuple is created with  curve bracket"
   ]
  },
  {
   "cell_type": "code",
   "execution_count": 74,
   "id": "9d43e06c",
   "metadata": {},
   "outputs": [
    {
     "data": {
      "text/plain": [
       "(7, 8, 9, 5, 6, 3)"
      ]
     },
     "execution_count": 74,
     "metadata": {},
     "output_type": "execute_result"
    }
   ],
   "source": [
    "list=(7,8,9,5,6,3)\n",
    "list"
   ]
  },
  {
   "cell_type": "code",
   "execution_count": 76,
   "id": "2383dfe5",
   "metadata": {},
   "outputs": [
    {
     "data": {
      "text/plain": [
       "['__add__',\n",
       " '__class__',\n",
       " '__class_getitem__',\n",
       " '__contains__',\n",
       " '__delattr__',\n",
       " '__dir__',\n",
       " '__doc__',\n",
       " '__eq__',\n",
       " '__format__',\n",
       " '__ge__',\n",
       " '__getattribute__',\n",
       " '__getitem__',\n",
       " '__getnewargs__',\n",
       " '__getstate__',\n",
       " '__gt__',\n",
       " '__hash__',\n",
       " '__init__',\n",
       " '__init_subclass__',\n",
       " '__iter__',\n",
       " '__le__',\n",
       " '__len__',\n",
       " '__lt__',\n",
       " '__mul__',\n",
       " '__ne__',\n",
       " '__new__',\n",
       " '__reduce__',\n",
       " '__reduce_ex__',\n",
       " '__repr__',\n",
       " '__rmul__',\n",
       " '__setattr__',\n",
       " '__sizeof__',\n",
       " '__str__',\n",
       " '__subclasshook__',\n",
       " 'count',\n",
       " 'index']"
      ]
     },
     "execution_count": 76,
     "metadata": {},
     "output_type": "execute_result"
    }
   ],
   "source": [
    "dir(list)"
   ]
  },
  {
   "cell_type": "code",
   "execution_count": 78,
   "id": "e939482d",
   "metadata": {},
   "outputs": [
    {
     "data": {
      "text/plain": [
       "(7, 8, 9, 5, 6, 3)"
      ]
     },
     "execution_count": 78,
     "metadata": {},
     "output_type": "execute_result"
    }
   ],
   "source": [
    "list"
   ]
  },
  {
   "cell_type": "code",
   "execution_count": 79,
   "id": "003700ed",
   "metadata": {},
   "outputs": [
    {
     "data": {
      "text/plain": [
       "(8, 7, 8, 96, 4)"
      ]
     },
     "execution_count": 79,
     "metadata": {},
     "output_type": "execute_result"
    }
   ],
   "source": [
    "list1=(8,7,8,96,4)\n",
    "list1"
   ]
  },
  {
   "cell_type": "code",
   "execution_count": 83,
   "id": "044ae20e",
   "metadata": {},
   "outputs": [
    {
     "data": {
      "text/plain": [
       "(7, 8, 9, 5, 6, 3, 8, 7, 8, 96, 4)"
      ]
     },
     "execution_count": 83,
     "metadata": {},
     "output_type": "execute_result"
    }
   ],
   "source": [
    "list3=list+list1 #we can add two list of touple\n",
    "list3"
   ]
  },
  {
   "cell_type": "code",
   "execution_count": 90,
   "id": "e457bc9a",
   "metadata": {},
   "outputs": [
    {
     "data": {
      "text/plain": [
       "1"
      ]
     },
     "execution_count": 90,
     "metadata": {},
     "output_type": "execute_result"
    }
   ],
   "source": [
    "list.count(3)# in bracket we have passed an element of tuple (not the index)"
   ]
  },
  {
   "cell_type": "code",
   "execution_count": 91,
   "id": "5ce2e10a",
   "metadata": {},
   "outputs": [
    {
     "data": {
      "text/plain": [
       "3"
      ]
     },
     "execution_count": 91,
     "metadata": {},
     "output_type": "execute_result"
    }
   ],
   "source": [
    "list.index(5)  # in bracket we have passed an element of tuple (not the index)"
   ]
  },
  {
   "cell_type": "code",
   "execution_count": 92,
   "id": "636d7491",
   "metadata": {},
   "outputs": [
    {
     "data": {
      "text/plain": [
       "9"
      ]
     },
     "execution_count": 92,
     "metadata": {},
     "output_type": "execute_result"
    }
   ],
   "source": [
    "\n",
    "# indexing and slicing with tuple is same as list\n",
    "# extracting elements of tuple\n",
    "list[2]\n",
    "     "
   ]
  },
  {
   "cell_type": "code",
   "execution_count": 95,
   "id": "44eead11",
   "metadata": {},
   "outputs": [
    {
     "data": {
      "text/plain": [
       "(7, 8, 9, 5, 6, 3)"
      ]
     },
     "execution_count": 95,
     "metadata": {},
     "output_type": "execute_result"
    }
   ],
   "source": [
    "#slicing in tuple\n",
    "list\n"
   ]
  },
  {
   "cell_type": "code",
   "execution_count": 97,
   "id": "40cde45f",
   "metadata": {},
   "outputs": [
    {
     "data": {
      "text/plain": [
       "(7, 8, 9, 5, 6, 3)"
      ]
     },
     "execution_count": 97,
     "metadata": {},
     "output_type": "execute_result"
    }
   ],
   "source": [
    "#print element in tuples between loc 0 to 6\n",
    "list[0:6]"
   ]
  },
  {
   "cell_type": "code",
   "execution_count": 98,
   "id": "abef163c",
   "metadata": {},
   "outputs": [
    {
     "data": {
      "text/plain": [
       "(9, 5, 6, 3)"
      ]
     },
     "execution_count": 98,
     "metadata": {},
     "output_type": "execute_result"
    }
   ],
   "source": [
    "#print elements in tuple from 2nd mem loc\n",
    "list[2:]"
   ]
  },
  {
   "cell_type": "markdown",
   "id": "7243967b",
   "metadata": {},
   "source": [
    "# DS-dictionary "
   ]
  },
  {
   "cell_type": "code",
   "execution_count": 100,
   "id": "11f83df7",
   "metadata": {},
   "outputs": [
    {
     "name": "stdout",
     "output_type": "stream",
     "text": [
      "{'Nepal': 'Kathmandu', 'Italy': 'Rome', 'England': 'London'}\n"
     ]
    }
   ],
   "source": [
    "\n",
    "# Data Structure: 3.Dictionary\n",
    "# Dictionaries are used to store data values in \"key:value pairs\".\n",
    "# A dictionary is a collection which is ordered, changeable and do not allow duplicates.\n",
    "# Dictionaries are written with curly brackets {\"Key\":\"Value\"}, and have keys and values.\n",
    "# Here, keys are unique identifiers that are associated with each value.:\n",
    "#imp is here is key and values\n",
    "\n",
    "capital_dict={\"Nepal\": \"Kathmandu\", \"Italy\": \"Rome\", \"England\": \"London\"}\n",
    "print(capital_dict)"
   ]
  },
  {
   "cell_type": "code",
   "execution_count": 107,
   "id": "59b0392a",
   "metadata": {},
   "outputs": [
    {
     "data": {
      "text/plain": [
       "{'pen': 'blue', 'book': 'english', 'notes': 'c'}"
      ]
     },
     "execution_count": 107,
     "metadata": {},
     "output_type": "execute_result"
    }
   ],
   "source": [
    "stationary={\"pen\":\"blue\",\"book\":\"english\",\"notes\":\"c\"}\n",
    "stationary"
   ]
  },
  {
   "cell_type": "code",
   "execution_count": 108,
   "id": "e9435930",
   "metadata": {},
   "outputs": [
    {
     "data": {
      "text/plain": [
       "dict"
      ]
     },
     "execution_count": 108,
     "metadata": {},
     "output_type": "execute_result"
    }
   ],
   "source": [
    "type(stationary)"
   ]
  },
  {
   "cell_type": "code",
   "execution_count": 109,
   "id": "0c533d5c",
   "metadata": {},
   "outputs": [
    {
     "data": {
      "text/plain": [
       "['__class__',\n",
       " '__class_getitem__',\n",
       " '__contains__',\n",
       " '__delattr__',\n",
       " '__delitem__',\n",
       " '__dir__',\n",
       " '__doc__',\n",
       " '__eq__',\n",
       " '__format__',\n",
       " '__ge__',\n",
       " '__getattribute__',\n",
       " '__getitem__',\n",
       " '__getstate__',\n",
       " '__gt__',\n",
       " '__hash__',\n",
       " '__init__',\n",
       " '__init_subclass__',\n",
       " '__ior__',\n",
       " '__iter__',\n",
       " '__le__',\n",
       " '__len__',\n",
       " '__lt__',\n",
       " '__ne__',\n",
       " '__new__',\n",
       " '__or__',\n",
       " '__reduce__',\n",
       " '__reduce_ex__',\n",
       " '__repr__',\n",
       " '__reversed__',\n",
       " '__ror__',\n",
       " '__setattr__',\n",
       " '__setitem__',\n",
       " '__sizeof__',\n",
       " '__str__',\n",
       " '__subclasshook__',\n",
       " 'clear',\n",
       " 'copy',\n",
       " 'fromkeys',\n",
       " 'get',\n",
       " 'items',\n",
       " 'keys',\n",
       " 'pop',\n",
       " 'popitem',\n",
       " 'setdefault',\n",
       " 'update',\n",
       " 'values']"
      ]
     },
     "execution_count": 109,
     "metadata": {},
     "output_type": "execute_result"
    }
   ],
   "source": [
    "dir(dict)"
   ]
  },
  {
   "cell_type": "code",
   "execution_count": 111,
   "id": "b0b02e9d",
   "metadata": {},
   "outputs": [
    {
     "data": {
      "text/plain": [
       "'blue'"
      ]
     },
     "execution_count": 111,
     "metadata": {},
     "output_type": "execute_result"
    }
   ],
   "source": [
    "# access element of dictionary\n",
    "stationary[\"pen\"]"
   ]
  },
  {
   "cell_type": "code",
   "execution_count": 112,
   "id": "333372bf",
   "metadata": {},
   "outputs": [
    {
     "data": {
      "text/plain": [
       "{'pen': 'blue', 'book': 'english', 'notes': 'c'}"
      ]
     },
     "execution_count": 112,
     "metadata": {},
     "output_type": "execute_result"
    }
   ],
   "source": [
    "stationary"
   ]
  },
  {
   "cell_type": "code",
   "execution_count": 113,
   "id": "be08836e",
   "metadata": {},
   "outputs": [
    {
     "data": {
      "text/plain": [
       "'english'"
      ]
     },
     "execution_count": 113,
     "metadata": {},
     "output_type": "execute_result"
    }
   ],
   "source": [
    "stationary[\"book\"]"
   ]
  },
  {
   "cell_type": "code",
   "execution_count": 114,
   "id": "974a3544",
   "metadata": {},
   "outputs": [
    {
     "data": {
      "text/plain": [
       "'c'"
      ]
     },
     "execution_count": 114,
     "metadata": {},
     "output_type": "execute_result"
    }
   ],
   "source": [
    "stationary[\"notes\"]"
   ]
  },
  {
   "cell_type": "code",
   "execution_count": 116,
   "id": "866db1fc",
   "metadata": {},
   "outputs": [
    {
     "data": {
      "text/plain": [
       "{'pen': 'blue', 'book': 'english', 'notes': 'c'}"
      ]
     },
     "execution_count": 116,
     "metadata": {},
     "output_type": "execute_result"
    }
   ],
   "source": [
    "stationary"
   ]
  },
  {
   "cell_type": "code",
   "execution_count": 117,
   "id": "7f18b029",
   "metadata": {},
   "outputs": [
    {
     "data": {
      "text/plain": [
       "dict_keys(['pen', 'book', 'notes'])"
      ]
     },
     "execution_count": 117,
     "metadata": {},
     "output_type": "execute_result"
    }
   ],
   "source": [
    "# keys() method extracts the keys of the dictionary and returns the list of keys as a view\n",
    "#when we want only keys in dictinary we use key keyword\n",
    "key=stationary.keys()\n",
    "key"
   ]
  },
  {
   "cell_type": "code",
   "execution_count": 118,
   "id": "1d9bf4e4",
   "metadata": {},
   "outputs": [
    {
     "data": {
      "text/plain": [
       "dict_values(['blue', 'english', 'c'])"
      ]
     },
     "execution_count": 118,
     "metadata": {},
     "output_type": "execute_result"
    }
   ],
   "source": [
    "# The values() method returns a view object that displays a list of all the values in the dictionary.\n",
    "#when we want only value in dictinary we use value keyword\n",
    "values=stationary.values()\n",
    "values\n",
    "     "
   ]
  },
  {
   "cell_type": "code",
   "execution_count": 119,
   "id": "a26eb225",
   "metadata": {},
   "outputs": [
    {
     "data": {
      "text/plain": [
       "dict_items([('pen', 'blue'), ('book', 'english'), ('notes', 'c')])"
      ]
     },
     "execution_count": 119,
     "metadata": {},
     "output_type": "execute_result"
    }
   ],
   "source": [
    "# The items() method returns a view object that displays a list of dictionary's (key, value) tuple pairs.\n",
    "#item shows the details of eack key:value pair\n",
    "items=stationary.items()\n",
    "items"
   ]
  },
  {
   "cell_type": "code",
   "execution_count": 121,
   "id": "5dbc729f",
   "metadata": {},
   "outputs": [
    {
     "data": {
      "text/plain": [
       "{'pen': 'blue',\n",
       " 'book': 'english',\n",
       " 'notes': 'c',\n",
       " 'India': 'New Delhi',\n",
       " 'abc': 'xyz'}"
      ]
     },
     "execution_count": 121,
     "metadata": {},
     "output_type": "execute_result"
    }
   ],
   "source": [
    "# The update() method updates the dictionary with the elements from another dictionary object or from an iterable of key/value pairs.\n",
    "\n",
    "#using of update method\n",
    "\n",
    "add_capital={\"India\": \"New Delhi\",\"abc\":\"xyz\"}\n",
    "stationary.update(add_capital)\n",
    "stationary"
   ]
  },
  {
   "cell_type": "code",
   "execution_count": 122,
   "id": "aeddc337",
   "metadata": {},
   "outputs": [
    {
     "data": {
      "text/plain": [
       "{'pen': 'blue',\n",
       " 'book': 'english',\n",
       " 'notes': 'c',\n",
       " 'India': 'New Delhi',\n",
       " 'abc': 'xyz'}"
      ]
     },
     "execution_count": 122,
     "metadata": {},
     "output_type": "execute_result"
    }
   ],
   "source": [
    "stationary"
   ]
  },
  {
   "cell_type": "code",
   "execution_count": 123,
   "id": "5c98b6e0",
   "metadata": {},
   "outputs": [
    {
     "data": {
      "text/plain": [
       "{'pen': 'blue',\n",
       " 'book': 'english',\n",
       " 'notes': 'c',\n",
       " 'India': 'New Delhi',\n",
       " 'abc': 'xyz'}"
      ]
     },
     "execution_count": 123,
     "metadata": {},
     "output_type": "execute_result"
    }
   ],
   "source": [
    "stationary"
   ]
  },
  {
   "cell_type": "code",
   "execution_count": 132,
   "id": "80ed6394",
   "metadata": {},
   "outputs": [
    {
     "data": {
      "text/plain": [
       "{'pen': 'blue', 'book': 'english', 'notes': 'c'}"
      ]
     },
     "execution_count": 132,
     "metadata": {},
     "output_type": "execute_result"
    }
   ],
   "source": [
    "stationary.pop(\"abc\") # pop() remove the key in a dictionary\n",
    "stationary"
   ]
  },
  {
   "cell_type": "code",
   "execution_count": 135,
   "id": "130b8aca",
   "metadata": {},
   "outputs": [
    {
     "data": {
      "text/plain": [
       "{'pen': 'blue', 'book': 'english', 'notes': 'c', 'c': 'mumbai'}"
      ]
     },
     "execution_count": 135,
     "metadata": {},
     "output_type": "execute_result"
    }
   ],
   "source": [
    "stationary['c']=\"mumbai\" # this is example of adding a key and value ina a dictinary\n",
    "stationary"
   ]
  },
  {
   "cell_type": "code",
   "execution_count": 136,
   "id": "9e843e62",
   "metadata": {},
   "outputs": [
    {
     "data": {
      "text/plain": [
       "('c', 'mumbai')"
      ]
     },
     "execution_count": 136,
     "metadata": {},
     "output_type": "execute_result"
    }
   ],
   "source": [
    "stationary.popitem() # removes last key:value pair from dictionary"
   ]
  },
  {
   "cell_type": "code",
   "execution_count": 137,
   "id": "cbfd71b2",
   "metadata": {},
   "outputs": [
    {
     "data": {
      "text/plain": [
       "{'pen': 'blue', 'book': 'english', 'notes': 'c'}"
      ]
     },
     "execution_count": 137,
     "metadata": {},
     "output_type": "execute_result"
    }
   ],
   "source": [
    "stationary\n"
   ]
  },
  {
   "cell_type": "code",
   "execution_count": 138,
   "id": "8e15ae1b",
   "metadata": {},
   "outputs": [
    {
     "data": {
      "text/plain": [
       "('notes', 'c')"
      ]
     },
     "execution_count": 138,
     "metadata": {},
     "output_type": "execute_result"
    }
   ],
   "source": [
    "stationary.popitem()"
   ]
  },
  {
   "cell_type": "code",
   "execution_count": 139,
   "id": "a846adfa",
   "metadata": {},
   "outputs": [
    {
     "data": {
      "text/plain": [
       "{'pen': 'blue', 'book': 'english'}"
      ]
     },
     "execution_count": 139,
     "metadata": {},
     "output_type": "execute_result"
    }
   ],
   "source": [
    "stationary"
   ]
  },
  {
   "cell_type": "code",
   "execution_count": 140,
   "id": "2f566eb5",
   "metadata": {},
   "outputs": [
    {
     "data": {
      "text/plain": [
       "['Mango', 'Orange', 'Strawberry', 'Banana', 'Mulberry', 'Black berry']"
      ]
     },
     "execution_count": 140,
     "metadata": {},
     "output_type": "execute_result"
    }
   ],
   "source": [
    "\n",
    "# Dictionary Values can be of different data type\n",
    "mylist=[\"Mango\",\"Orange\",\"Strawberry\",\"Banana\",\"Mulberry\",\"Black berry\"]\n",
    "mylist"
   ]
  },
  {
   "cell_type": "code",
   "execution_count": 141,
   "id": "467adf28",
   "metadata": {},
   "outputs": [
    {
     "data": {
      "text/plain": [
       "(1, 5, 4, 6, 2, 7)"
      ]
     },
     "execution_count": 141,
     "metadata": {},
     "output_type": "execute_result"
    }
   ],
   "source": [
    "mytuple=(1,5,4,6,2,7)\n",
    "mytuple"
   ]
  },
  {
   "cell_type": "code",
   "execution_count": 144,
   "id": "5b1bb3c1",
   "metadata": {},
   "outputs": [
    {
     "data": {
      "text/plain": [
       "{'a': ['Mango', 'Orange', 'Strawberry', 'Banana', 'Mulberry', 'Black berry'],\n",
       " 'b': (1, 5, 4, 6, 2, 7),\n",
       " 'c': {'pen': 'blue', 'book': 'english'}}"
      ]
     },
     "execution_count": 144,
     "metadata": {},
     "output_type": "execute_result"
    }
   ],
   "source": [
    "#dicturdictionary of a key:value pair of list,tuple\n",
    "data={ \"a\":mylist,\n",
    "     \"b\":mytuple,\n",
    "     \"c\":stationary}\n",
    "data"
   ]
  },
  {
   "cell_type": "code",
   "execution_count": 146,
   "id": "adc6eab4",
   "metadata": {},
   "outputs": [
    {
     "data": {
      "text/plain": [
       "['Mango', 'Orange', 'Strawberry', 'Banana', 'Mulberry', 'Black berry']"
      ]
     },
     "execution_count": 146,
     "metadata": {},
     "output_type": "execute_result"
    }
   ],
   "source": [
    "data['a']#key of a list"
   ]
  },
  {
   "cell_type": "code",
   "execution_count": 147,
   "id": "37103a4d",
   "metadata": {},
   "outputs": [
    {
     "data": {
      "text/plain": [
       "(1, 5, 4, 6, 2, 7)"
      ]
     },
     "execution_count": 147,
     "metadata": {},
     "output_type": "execute_result"
    }
   ],
   "source": [
    "data[\"b\"]#key of tuple"
   ]
  },
  {
   "cell_type": "code",
   "execution_count": 150,
   "id": "181f3dc8",
   "metadata": {},
   "outputs": [
    {
     "data": {
      "text/plain": [
       "{'pen': 'blue', 'book': 'english'}"
      ]
     },
     "execution_count": 150,
     "metadata": {},
     "output_type": "execute_result"
    }
   ],
   "source": [
    "data['c']"
   ]
  },
  {
   "cell_type": "code",
   "execution_count": 149,
   "id": "b13f2ca3",
   "metadata": {},
   "outputs": [
    {
     "data": {
      "text/plain": [
       "'english'"
      ]
     },
     "execution_count": 149,
     "metadata": {},
     "output_type": "execute_result"
    }
   ],
   "source": [
    "data['c'][\"book\"] #use of key to print value in key"
   ]
  },
  {
   "cell_type": "code",
   "execution_count": 151,
   "id": "c381b8d6",
   "metadata": {},
   "outputs": [
    {
     "ename": "NameError",
     "evalue": "name 'sqrt' is not defined",
     "output_type": "error",
     "traceback": [
      "\u001b[1;31m---------------------------------------------------------------------------\u001b[0m",
      "\u001b[1;31mNameError\u001b[0m                                 Traceback (most recent call last)",
      "Cell \u001b[1;32mIn[151], line 1\u001b[0m\n\u001b[1;32m----> 1\u001b[0m sqrt(\u001b[38;5;241m25\u001b[39m)\n",
      "\u001b[1;31mNameError\u001b[0m: name 'sqrt' is not defined"
     ]
    }
   ],
   "source": [
    "sqrt(25)"
   ]
  },
  {
   "cell_type": "code",
   "execution_count": 152,
   "id": "80b075b7",
   "metadata": {},
   "outputs": [
    {
     "ename": "NameError",
     "evalue": "name 'sqrt' is not defined",
     "output_type": "error",
     "traceback": [
      "\u001b[1;31m---------------------------------------------------------------------------\u001b[0m",
      "\u001b[1;31mNameError\u001b[0m                                 Traceback (most recent call last)",
      "Cell \u001b[1;32mIn[152], line 2\u001b[0m\n\u001b[0;32m      1\u001b[0m \u001b[38;5;66;03m# Math functions: can import specific functions or all using *\u001b[39;00m\n\u001b[1;32m----> 2\u001b[0m sqrt(\u001b[38;5;241m25\u001b[39m)\n",
      "\u001b[1;31mNameError\u001b[0m: name 'sqrt' is not defined"
     ]
    }
   ],
   "source": [
    "# Math functions: can import specific functions or all using *\n",
    "sqrt(25) # raise error as you have not imported"
   ]
  },
  {
   "cell_type": "code",
   "execution_count": 156,
   "id": "93c2837d",
   "metadata": {},
   "outputs": [
    {
     "data": {
      "text/plain": [
       "25"
      ]
     },
     "execution_count": 156,
     "metadata": {},
     "output_type": "execute_result"
    }
   ],
   "source": [
    "from math import sqrt\n",
    "sqrt(81)\n",
    "sq(5) "
   ]
  },
  {
   "cell_type": "code",
   "execution_count": 157,
   "id": "2f489a2a",
   "metadata": {},
   "outputs": [
    {
     "ename": "NameError",
     "evalue": "name 'factorial' is not defined",
     "output_type": "error",
     "traceback": [
      "\u001b[1;31m---------------------------------------------------------------------------\u001b[0m",
      "\u001b[1;31mNameError\u001b[0m                                 Traceback (most recent call last)",
      "Cell \u001b[1;32mIn[157], line 1\u001b[0m\n\u001b[1;32m----> 1\u001b[0m factorial(\u001b[38;5;241m5\u001b[39m)\n",
      "\u001b[1;31mNameError\u001b[0m: name 'factorial' is not defined"
     ]
    }
   ],
   "source": [
    "factorial(5)"
   ]
  },
  {
   "cell_type": "code",
   "execution_count": 158,
   "id": "f1e2cf0a",
   "metadata": {},
   "outputs": [
    {
     "data": {
      "text/plain": [
       "120"
      ]
     },
     "execution_count": 158,
     "metadata": {},
     "output_type": "execute_result"
    }
   ],
   "source": [
    "from math import factorial\n",
    "factorial(5)"
   ]
  },
  {
   "cell_type": "code",
   "execution_count": 163,
   "id": "96a857e3",
   "metadata": {},
   "outputs": [
    {
     "data": {
      "text/plain": [
       "25"
      ]
     },
     "execution_count": 163,
     "metadata": {},
     "output_type": "execute_result"
    }
   ],
   "source": [
    "from math import sqrt\n",
    "sq(5)"
   ]
  },
  {
   "cell_type": "code",
   "execution_count": 164,
   "id": "cddc73c2",
   "metadata": {},
   "outputs": [
    {
     "data": {
      "text/plain": [
       "120"
      ]
     },
     "execution_count": 164,
     "metadata": {},
     "output_type": "execute_result"
    }
   ],
   "source": [
    "from math import factorial\n",
    "factorial(5)"
   ]
  },
  {
   "cell_type": "code",
   "execution_count": 167,
   "id": "e8dbf490",
   "metadata": {},
   "outputs": [
    {
     "data": {
      "text/plain": [
       "-1.995200412208242"
      ]
     },
     "execution_count": 167,
     "metadata": {},
     "output_type": "execute_result"
    }
   ],
   "source": [
    "from math import *\n",
    "tan(90)"
   ]
  },
  {
   "cell_type": "code",
   "execution_count": 170,
   "id": "51dbcd3f",
   "metadata": {},
   "outputs": [
    {
     "data": {
      "text/plain": [
       "15"
      ]
     },
     "execution_count": 170,
     "metadata": {},
     "output_type": "execute_result"
    }
   ],
   "source": [
    "from math import *\n",
    "list=[1,2,3,4,5]\n",
    "sum(list) #prod(list)"
   ]
  },
  {
   "cell_type": "code",
   "execution_count": 171,
   "id": "8f95a0b3",
   "metadata": {},
   "outputs": [
    {
     "data": {
      "text/plain": [
       "['__doc__',\n",
       " '__loader__',\n",
       " '__name__',\n",
       " '__package__',\n",
       " '__spec__',\n",
       " 'acos',\n",
       " 'acosh',\n",
       " 'asin',\n",
       " 'asinh',\n",
       " 'atan',\n",
       " 'atan2',\n",
       " 'atanh',\n",
       " 'cbrt',\n",
       " 'ceil',\n",
       " 'comb',\n",
       " 'copysign',\n",
       " 'cos',\n",
       " 'cosh',\n",
       " 'degrees',\n",
       " 'dist',\n",
       " 'e',\n",
       " 'erf',\n",
       " 'erfc',\n",
       " 'exp',\n",
       " 'exp2',\n",
       " 'expm1',\n",
       " 'fabs',\n",
       " 'factorial',\n",
       " 'floor',\n",
       " 'fmod',\n",
       " 'frexp',\n",
       " 'fsum',\n",
       " 'gamma',\n",
       " 'gcd',\n",
       " 'hypot',\n",
       " 'inf',\n",
       " 'isclose',\n",
       " 'isfinite',\n",
       " 'isinf',\n",
       " 'isnan',\n",
       " 'isqrt',\n",
       " 'lcm',\n",
       " 'ldexp',\n",
       " 'lgamma',\n",
       " 'log',\n",
       " 'log10',\n",
       " 'log1p',\n",
       " 'log2',\n",
       " 'modf',\n",
       " 'nan',\n",
       " 'nextafter',\n",
       " 'perm',\n",
       " 'pi',\n",
       " 'pow',\n",
       " 'prod',\n",
       " 'radians',\n",
       " 'remainder',\n",
       " 'sin',\n",
       " 'sinh',\n",
       " 'sqrt',\n",
       " 'tan',\n",
       " 'tanh',\n",
       " 'tau',\n",
       " 'trunc',\n",
       " 'ulp']"
      ]
     },
     "execution_count": 171,
     "metadata": {},
     "output_type": "execute_result"
    }
   ],
   "source": [
    "dir(math)"
   ]
  },
  {
   "cell_type": "code",
   "execution_count": 174,
   "id": "d6ce6e26",
   "metadata": {},
   "outputs": [
    {
     "data": {
      "text/plain": [
       "3.141592653589793"
      ]
     },
     "execution_count": 174,
     "metadata": {},
     "output_type": "execute_result"
    }
   ],
   "source": [
    "from math import *\n",
    "pi"
   ]
  },
  {
   "cell_type": "code",
   "execution_count": null,
   "id": "379f8f4f",
   "metadata": {},
   "outputs": [],
   "source": []
  }
 ],
 "metadata": {
  "kernelspec": {
   "display_name": "Python 3 (ipykernel)",
   "language": "python",
   "name": "python3"
  },
  "language_info": {
   "codemirror_mode": {
    "name": "ipython",
    "version": 3
   },
   "file_extension": ".py",
   "mimetype": "text/x-python",
   "name": "python",
   "nbconvert_exporter": "python",
   "pygments_lexer": "ipython3",
   "version": "3.11.5"
  }
 },
 "nbformat": 4,
 "nbformat_minor": 5
}
